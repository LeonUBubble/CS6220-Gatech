{
 "cells": [
  {
   "cell_type": "markdown",
   "metadata": {},
   "source": [
    "# Read all images from local"
   ]
  },
  {
   "cell_type": "code",
   "execution_count": 19,
   "metadata": {
    "collapsed": false
   },
   "outputs": [
    {
     "name": "stdout",
     "output_type": "stream",
     "text": [
      "(2000, 224, 224, 3)\n"
     ]
    }
   ],
   "source": [
    "import os\n",
    "import glob  # 查找文件\n",
    "from tensorflow import keras\n",
    "import numpy as np\n",
    "from pandas import Series, DataFrame\n",
    "from six.moves import range\n",
    "#加载数据\n",
    "import os\n",
    "from PIL import Image\n",
    "import numpy as np\n",
    "#读取文件夹train下的42000张图片，图片为彩色图，所以为3通道，\n",
    "#如果是将彩色图作为输入,图像大小224*224\n",
    "def load_data():\n",
    "    sed = 1000\n",
    "    data = np.empty((2000,224,224,3),dtype=\"float32\")\n",
    "    label = np.empty((2000,))\n",
    "    imgs = os.listdir(\"/Users/apple/Desktop/all/train/\")\n",
    "    num = len(imgs)\n",
    "    times = 0\n",
    "    time = 0\n",
    "    for i in range(num):\n",
    "        if imgs[i].split('.')[0] == 'cat':\n",
    "            if times ==1000:\n",
    "                continue\n",
    "            img = Image.open(\"/Users/apple/Desktop/all/train/\" + imgs[i])\n",
    "            arr = np.asarray(img, dtype=\"float32\")\n",
    "            arr.resize((224,224,3))\n",
    "            data[i, :, :, :] = arr\n",
    "            label[i] = 0\n",
    "            times +=1\n",
    "\n",
    "\n",
    "        else:\n",
    "            img = Image.open(\"/Users/apple/Desktop/all/train/\" + imgs[i])\n",
    "            arr = np.asarray(img, dtype=\"float32\")\n",
    "            arr.resize((224, 224, 3))\n",
    "            data[1000+time, :, :, :] = arr\n",
    "            label[1000+time] = 1\n",
    "            time +=1\n",
    "            if time == 1000:\n",
    "                break\n",
    "\n",
    "    return data,label\n",
    "data,label = load_data()\n",
    "print(data.shape)\n",
    "train_data = data[:1800]\n",
    "train_labels = label[:1800]\n",
    "validation_data = data[1800:]\n",
    "validation_labels = label[1800:]"
   ]
  },
  {
   "cell_type": "markdown",
   "metadata": {},
   "source": [
    "# Create a new model by Keras"
   ]
  },
  {
   "cell_type": "markdown",
   "metadata": {},
   "source": [
    "Create a new model. There are two layer for Convolution and one for Flatten"
   ]
  },
  {
   "cell_type": "code",
   "execution_count": 24,
   "metadata": {
    "collapsed": false
   },
   "outputs": [
    {
     "name": "stdout",
     "output_type": "stream",
     "text": [
      "Train on 1800 samples, validate on 200 samples\n",
      "Epoch 1/50\n",
      "1800/1800 [==============================] - 2s 1ms/step - loss: 4.6626 - acc: 0.6961 - val_loss: 8.5054 - val_acc: 0.4600\n",
      "Epoch 2/50\n",
      "1800/1800 [==============================] - 2s 1ms/step - loss: 3.9418 - acc: 0.7567 - val_loss: 8.7038 - val_acc: 0.4600\n",
      "Epoch 3/50\n",
      "1800/1800 [==============================] - 2s 998us/step - loss: 3.8364 - acc: 0.7611 - val_loss: 8.6770 - val_acc: 0.4600\n",
      "Epoch 4/50\n",
      "1800/1800 [==============================] - 2s 990us/step - loss: 3.8850 - acc: 0.7439 - val_loss: 8.5684 - val_acc: 0.4600\n",
      "Epoch 5/50\n",
      "1800/1800 [==============================] - 2s 995us/step - loss: 3.4169 - acc: 0.7317 - val_loss: 4.2316 - val_acc: 0.4850\n",
      "Epoch 6/50\n",
      "1800/1800 [==============================] - 2s 994us/step - loss: 2.1547 - acc: 0.7156 - val_loss: 2.0034 - val_acc: 0.5150\n",
      "Epoch 7/50\n",
      "1800/1800 [==============================] - 2s 988us/step - loss: 1.0799 - acc: 0.7317 - val_loss: 1.0682 - val_acc: 0.4800\n",
      "Epoch 8/50\n",
      "1800/1800 [==============================] - 2s 977us/step - loss: 0.7313 - acc: 0.7356 - val_loss: 1.0627 - val_acc: 0.4600\n",
      "Epoch 9/50\n",
      "1800/1800 [==============================] - 2s 998us/step - loss: 0.6267 - acc: 0.7561 - val_loss: 0.9358 - val_acc: 0.4550\n",
      "Epoch 10/50\n",
      "1800/1800 [==============================] - 2s 981us/step - loss: 0.5698 - acc: 0.7611 - val_loss: 0.9155 - val_acc: 0.4600\n",
      "Epoch 11/50\n",
      "1800/1800 [==============================] - 2s 990us/step - loss: 0.5483 - acc: 0.7644 - val_loss: 0.9121 - val_acc: 0.4550\n",
      "Epoch 12/50\n",
      "1800/1800 [==============================] - 2s 996us/step - loss: 0.5365 - acc: 0.7706 - val_loss: 0.9438 - val_acc: 0.4600\n",
      "Epoch 13/50\n",
      "1800/1800 [==============================] - 2s 1ms/step - loss: 0.5296 - acc: 0.7694 - val_loss: 0.9492 - val_acc: 0.4600\n",
      "Epoch 14/50\n",
      "1800/1800 [==============================] - 2s 1ms/step - loss: 0.5139 - acc: 0.7728 - val_loss: 0.9727 - val_acc: 0.4600\n",
      "Epoch 15/50\n",
      "1800/1800 [==============================] - 2s 1ms/step - loss: 0.5134 - acc: 0.7711 - val_loss: 0.9495 - val_acc: 0.4550\n",
      "Epoch 16/50\n",
      "1800/1800 [==============================] - 2s 1ms/step - loss: 0.4984 - acc: 0.7722 - val_loss: 0.9496 - val_acc: 0.4600\n",
      "Epoch 17/50\n",
      "1800/1800 [==============================] - 2s 1ms/step - loss: 0.4832 - acc: 0.7761 - val_loss: 0.9154 - val_acc: 0.4600\n",
      "Epoch 18/50\n",
      "1800/1800 [==============================] - 2s 1ms/step - loss: 0.4700 - acc: 0.7761 - val_loss: 0.9771 - val_acc: 0.4550\n",
      "Epoch 19/50\n",
      "1800/1800 [==============================] - 2s 1ms/step - loss: 0.4640 - acc: 0.7783 - val_loss: 0.9768 - val_acc: 0.4600\n",
      "Epoch 20/50\n",
      "1800/1800 [==============================] - 2s 1ms/step - loss: 0.4487 - acc: 0.7767 - val_loss: 0.9525 - val_acc: 0.4550\n",
      "Epoch 21/50\n",
      "1800/1800 [==============================] - 2s 1ms/step - loss: 0.4459 - acc: 0.7789 - val_loss: 0.9568 - val_acc: 0.4600\n",
      "Epoch 22/50\n",
      "1800/1800 [==============================] - 2s 1ms/step - loss: 0.4383 - acc: 0.7800 - val_loss: 1.0005 - val_acc: 0.4600\n",
      "Epoch 23/50\n",
      "1800/1800 [==============================] - 2s 1ms/step - loss: 0.4366 - acc: 0.7839 - val_loss: 0.9710 - val_acc: 0.4550\n",
      "Epoch 24/50\n",
      "1800/1800 [==============================] - 2s 1ms/step - loss: 0.4299 - acc: 0.7833 - val_loss: 0.9882 - val_acc: 0.4600\n",
      "Epoch 25/50\n",
      "1800/1800 [==============================] - 2s 1ms/step - loss: 0.4269 - acc: 0.7856 - val_loss: 0.9963 - val_acc: 0.4650\n",
      "Epoch 26/50\n",
      "1800/1800 [==============================] - 2s 1ms/step - loss: 0.4235 - acc: 0.7872 - val_loss: 0.9883 - val_acc: 0.4600\n",
      "Epoch 27/50\n",
      "1800/1800 [==============================] - 2s 1ms/step - loss: 0.4230 - acc: 0.7878 - val_loss: 1.0021 - val_acc: 0.4550\n",
      "Epoch 28/50\n",
      "1800/1800 [==============================] - 2s 1ms/step - loss: 0.4249 - acc: 0.7922 - val_loss: 1.0264 - val_acc: 0.4550\n",
      "Epoch 29/50\n",
      "1800/1800 [==============================] - 2s 1ms/step - loss: 0.4176 - acc: 0.7906 - val_loss: 1.0087 - val_acc: 0.4550\n",
      "Epoch 30/50\n",
      "1800/1800 [==============================] - 2s 977us/step - loss: 0.4062 - acc: 0.7939 - val_loss: 1.0290 - val_acc: 0.4550\n",
      "Epoch 31/50\n",
      "1800/1800 [==============================] - 2s 975us/step - loss: 0.4125 - acc: 0.7900 - val_loss: 1.1326 - val_acc: 0.4600\n",
      "Epoch 32/50\n",
      "1800/1800 [==============================] - 2s 966us/step - loss: 0.4121 - acc: 0.7939 - val_loss: 1.0962 - val_acc: 0.4550\n",
      "Epoch 33/50\n",
      "1800/1800 [==============================] - 2s 979us/step - loss: 0.4077 - acc: 0.7983 - val_loss: 1.1405 - val_acc: 0.4600\n",
      "Epoch 34/50\n",
      "1800/1800 [==============================] - 2s 975us/step - loss: 0.4027 - acc: 0.7967 - val_loss: 1.1049 - val_acc: 0.4550\n",
      "Epoch 35/50\n",
      "1800/1800 [==============================] - 2s 979us/step - loss: 0.4040 - acc: 0.7989 - val_loss: 1.0824 - val_acc: 0.4550\n",
      "Epoch 36/50\n",
      "1800/1800 [==============================] - 2s 971us/step - loss: 0.4062 - acc: 0.7956 - val_loss: 1.0870 - val_acc: 0.4550\n",
      "Epoch 37/50\n",
      "1800/1800 [==============================] - 2s 979us/step - loss: 0.3995 - acc: 0.8000 - val_loss: 1.0999 - val_acc: 0.4600\n",
      "Epoch 38/50\n",
      "1800/1800 [==============================] - 2s 988us/step - loss: 0.3960 - acc: 0.7961 - val_loss: 1.1604 - val_acc: 0.4550\n",
      "Epoch 39/50\n",
      "1800/1800 [==============================] - 2s 1ms/step - loss: 0.3969 - acc: 0.8000 - val_loss: 1.1190 - val_acc: 0.4550\n",
      "Epoch 40/50\n",
      "1800/1800 [==============================] - 2s 1ms/step - loss: 0.3956 - acc: 0.8000 - val_loss: 1.1335 - val_acc: 0.4600\n",
      "Epoch 41/50\n",
      "1800/1800 [==============================] - 2s 1ms/step - loss: 0.3941 - acc: 0.8006 - val_loss: 1.1609 - val_acc: 0.4600\n",
      "Epoch 42/50\n",
      "1800/1800 [==============================] - 2s 1ms/step - loss: 0.3844 - acc: 0.8039 - val_loss: 1.1974 - val_acc: 0.4550\n",
      "Epoch 43/50\n",
      "1800/1800 [==============================] - 2s 1ms/step - loss: 0.3912 - acc: 0.8022 - val_loss: 1.1246 - val_acc: 0.4550\n",
      "Epoch 44/50\n",
      "1800/1800 [==============================] - 2s 1ms/step - loss: 0.3916 - acc: 0.8033 - val_loss: 1.3150 - val_acc: 0.4700\n",
      "Epoch 45/50\n",
      "1800/1800 [==============================] - 2s 1ms/step - loss: 0.3878 - acc: 0.8022 - val_loss: 1.1839 - val_acc: 0.4550\n",
      "Epoch 46/50\n",
      "1800/1800 [==============================] - 2s 1ms/step - loss: 0.3868 - acc: 0.8033 - val_loss: 1.3008 - val_acc: 0.4550\n",
      "Epoch 47/50\n",
      "1800/1800 [==============================] - 2s 1ms/step - loss: 0.3864 - acc: 0.8039 - val_loss: 1.2213 - val_acc: 0.4550\n",
      "Epoch 48/50\n",
      "1800/1800 [==============================] - 2s 1ms/step - loss: 0.3821 - acc: 0.8061 - val_loss: 1.2563 - val_acc: 0.4550\n",
      "Epoch 49/50\n",
      "1800/1800 [==============================] - 2s 1ms/step - loss: 0.3791 - acc: 0.8078 - val_loss: 1.3005 - val_acc: 0.4600\n",
      "Epoch 50/50\n",
      "1800/1800 [==============================] - 2s 1ms/step - loss: 0.3850 - acc: 0.8050 - val_loss: 1.3326 - val_acc: 0.4550\n"
     ]
    },
    {
     "data": {
      "text/plain": [
       "<tensorflow.python.keras.callbacks.History at 0x15fc83d10>"
      ]
     },
     "execution_count": 24,
     "metadata": {},
     "output_type": "execute_result"
    }
   ],
   "source": [
    "from tensorflow import keras\n",
    "model = keras.models.Sequential()\n",
    "#第一个卷积层，4个卷积核，每个卷积核大小5*5。\n",
    "#激活函数用tanh\n",
    "#还可以在model.add(Activation('tanh'))后加上dropout的技巧: model.add(Dropout(0.5))\n",
    "model.add(keras.layers.Convolution2D(4, 5, 5,input_shape=(224, 224,3)))\n",
    "model.add(keras.layers.Activation('relu'))\n",
    "model.add(keras.layers.MaxPooling2D(pool_size=(2, 2)))\n",
    "#第二个卷积层，8个卷积核，每个卷积核大小3*3。\n",
    "#激活函数用tanh\n",
    "#采用maxpooling，poolsize为(2,2)\n",
    "model.add(keras.layers.Convolution2D(8, 3, 3))\n",
    "model.add(keras.layers.Activation('relu'))\n",
    "model.add(keras.layers.MaxPooling2D(pool_size=(2, 2)))\n",
    "#全连接层，先将前一层输出的二维特征图flatten为一维的。\n",
    "\n",
    "model.add(keras.layers.Flatten())\n",
    "model.add(keras.layers.Dense(128))\n",
    "model.add(keras.layers.Activation('relu'))\n",
    "model.add(keras.layers.Dropout(0.5))\n",
    "#sigmoid分类，输出是2类别\n",
    "model.add(keras.layers.Dense(1))\n",
    "model.add(keras.layers.Activation('sigmoid'))\n",
    "\n",
    "model.compile(loss='binary_crossentropy',\n",
    "              optimizer='rmsprop',\n",
    "              metrics=['accuracy'])\n",
    "model.fit(train_data, train_labels,\n",
    "         nb_epoch=50, batch_size=100,\n",
    "         validation_data=(validation_data, validation_labels))"
   ]
  },
  {
   "cell_type": "code",
   "execution_count": null,
   "metadata": {
    "collapsed": true
   },
   "outputs": [],
   "source": []
  }
 ],
 "metadata": {
  "kernelspec": {
   "display_name": "Python 2",
   "language": "python",
   "name": "python2"
  },
  "language_info": {
   "codemirror_mode": {
    "name": "ipython",
    "version": 2
   },
   "file_extension": ".py",
   "mimetype": "text/x-python",
   "name": "python",
   "nbconvert_exporter": "python",
   "pygments_lexer": "ipython2",
   "version": "2.7.11"
  }
 },
 "nbformat": 4,
 "nbformat_minor": 0
}
