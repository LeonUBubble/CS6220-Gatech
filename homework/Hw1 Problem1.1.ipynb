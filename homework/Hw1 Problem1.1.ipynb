{
 "cells": [
  {
   "cell_type": "markdown",
   "metadata": {},
   "source": [
    "# Read all images from local"
   ]
  },
  {
   "cell_type": "code",
   "execution_count": 59,
   "metadata": {
    "collapsed": false
   },
   "outputs": [
    {
     "name": "stdout",
     "output_type": "stream",
     "text": [
      "(2000, 224, 224, 3)\n"
     ]
    }
   ],
   "source": [
    "import os\n",
    "import glob  # 查找文件\n",
    "from tensorflow import keras\n",
    "import tensorflow as tf\n",
    "import numpy as np\n",
    "from pandas import Series, DataFrame\n",
    "from six.moves import range\n",
    "#加载数据\n",
    "import os\n",
    "from PIL import Image\n",
    "import numpy as np\n",
    "#读取文件夹train下的42000张图片，图片为彩色图，所以为3通道，\n",
    "#如果是将彩色图作为输入,图像大小224*224\n",
    "def load_data():\n",
    "    imgs = os.listdir(\"/Users/apple/Desktop/all/train/\")\n",
    "    num = 2000\n",
    "    data = np.empty((num,224,224,3),dtype=\"float32\")\n",
    "    label = np.empty((num,))\n",
    "    time  = 0;\n",
    "    for i in range(len(imgs)):\n",
    "        if time > 1999:\n",
    "            break;\n",
    "        if imgs[i].split('.')[0] == 'cat':\n",
    "            img = tf.keras.preprocessing.image.load_img(\"/Users/apple/Desktop/all/train/\" + imgs[i],target_size=(224,224))\n",
    "            arr = tf.keras.preprocessing.image.img_to_array(img)\n",
    "            arr.resize((224,224,3))\n",
    "            data[time, :, :, :] = arr\n",
    "            label[time] = 0\n",
    "            time = time + 1\n",
    "        if imgs[i].split('.')[0] == 'dog':\n",
    "            img = tf.keras.preprocessing.image.load_img(\"/Users/apple/Desktop/all/train/\" + imgs[i],target_size=(224,224))\n",
    "            arr = tf.keras.preprocessing.image.img_to_array(img)\n",
    "            arr.resize((224, 224, 3))\n",
    "            data[time, :, :, :] = arr\n",
    "            label[time] = 1\n",
    "            time = time+1\n",
    "    return data,label\n",
    "data,label = load_data()\n",
    "print(data.shape)\n",
    "train_data = data[:1800]\n",
    "train_labels = label[:1800]\n",
    "validation_data = data[1800:]\n",
    "validation_labels = label[1800:]"
   ]
  },
  {
   "cell_type": "code",
   "execution_count": 60,
   "metadata": {
    "collapsed": false
   },
   "outputs": [],
   "source": [
    "train_data = train_data / 255.0\n",
    "\n",
    "validation_data = validation_data / 255.0\n"
   ]
  },
  {
   "cell_type": "code",
   "execution_count": 61,
   "metadata": {
    "collapsed": false
   },
   "outputs": [],
   "source": [
    "import matplotlib.pyplot as plt\n",
    "\n",
    "plt.figure(figsize=(10,10))\n",
    "for i in range(25):\n",
    "    plt.subplot(5,5,i+1)\n",
    "    plt.xticks([])\n",
    "    plt.yticks([])\n",
    "    plt.grid(False)\n",
    "    plt.imshow(train_data[i], cmap=plt.cm.binary)\n",
    "    plt.xlabel(train_labels[i])\n",
    "plt.show()"
   ]
  },
  {
   "cell_type": "markdown",
   "metadata": {},
   "source": [
    "# Create a new model by Keras"
   ]
  },
  {
   "cell_type": "markdown",
   "metadata": {},
   "source": [
    "Create a new model. There are two layer for Convolution and one for Flatten"
   ]
  },
  {
   "cell_type": "code",
   "execution_count": 68,
   "metadata": {
    "collapsed": false
   },
   "outputs": [
    {
     "name": "stdout",
     "output_type": "stream",
     "text": [
      "Train on 1800 samples, validate on 200 samples\n",
      "Epoch 1/20\n",
      "1800/1800 [==============================] - 3s 2ms/step - loss: 0.6929 - acc: 0.5150 - val_loss: 0.6939 - val_acc: 0.4800\n",
      "Epoch 2/20\n",
      "1800/1800 [==============================] - 2s 1ms/step - loss: 0.6917 - acc: 0.5283 - val_loss: 0.6888 - val_acc: 0.6350\n",
      "Epoch 3/20\n",
      "1800/1800 [==============================] - 2s 1ms/step - loss: 0.6864 - acc: 0.5578 - val_loss: 0.6859 - val_acc: 0.4950\n",
      "Epoch 4/20\n",
      "1800/1800 [==============================] - 2s 1ms/step - loss: 0.6810 - acc: 0.5789 - val_loss: 0.6741 - val_acc: 0.5800\n",
      "Epoch 5/20\n",
      "1800/1800 [==============================] - 2s 1ms/step - loss: 0.6689 - acc: 0.5900 - val_loss: 0.6826 - val_acc: 0.5000\n",
      "Epoch 6/20\n",
      "1800/1800 [==============================] - 2s 1ms/step - loss: 0.6580 - acc: 0.6256 - val_loss: 0.6448 - val_acc: 0.6500\n",
      "Epoch 7/20\n",
      "1800/1800 [==============================] - 2s 1ms/step - loss: 0.6483 - acc: 0.6322 - val_loss: 0.6412 - val_acc: 0.6200\n",
      "Epoch 8/20\n",
      "1800/1800 [==============================] - 2s 1ms/step - loss: 0.6340 - acc: 0.6528 - val_loss: 0.6255 - val_acc: 0.6600\n",
      "Epoch 9/20\n",
      "1800/1800 [==============================] - 2s 1ms/step - loss: 0.6299 - acc: 0.6511 - val_loss: 0.6363 - val_acc: 0.6600\n",
      "Epoch 10/20\n",
      "1800/1800 [==============================] - 2s 1ms/step - loss: 0.6212 - acc: 0.6656 - val_loss: 0.6659 - val_acc: 0.5800\n",
      "Epoch 11/20\n",
      "1800/1800 [==============================] - 2s 1ms/step - loss: 0.6126 - acc: 0.6783 - val_loss: 0.6114 - val_acc: 0.6650\n",
      "Epoch 12/20\n",
      "1800/1800 [==============================] - 2s 1ms/step - loss: 0.6047 - acc: 0.6833 - val_loss: 0.7148 - val_acc: 0.5600\n",
      "Epoch 13/20\n",
      "1800/1800 [==============================] - 2s 1ms/step - loss: 0.6022 - acc: 0.6872 - val_loss: 0.6125 - val_acc: 0.6750\n",
      "Epoch 14/20\n",
      "1800/1800 [==============================] - 2s 1ms/step - loss: 0.5898 - acc: 0.6978 - val_loss: 0.6161 - val_acc: 0.6400\n",
      "Epoch 15/20\n",
      "1800/1800 [==============================] - 2s 1ms/step - loss: 0.5904 - acc: 0.6961 - val_loss: 0.6118 - val_acc: 0.6750\n",
      "Epoch 16/20\n",
      "1800/1800 [==============================] - 2s 1ms/step - loss: 0.5829 - acc: 0.6961 - val_loss: 0.6079 - val_acc: 0.6800\n",
      "Epoch 17/20\n",
      "1800/1800 [==============================] - 2s 1ms/step - loss: 0.5763 - acc: 0.7033 - val_loss: 0.6132 - val_acc: 0.6500\n",
      "Epoch 18/20\n",
      "1800/1800 [==============================] - 2s 1ms/step - loss: 0.5710 - acc: 0.7189 - val_loss: 0.6075 - val_acc: 0.6700\n",
      "Epoch 19/20\n",
      "1800/1800 [==============================] - 2s 1ms/step - loss: 0.5741 - acc: 0.7100 - val_loss: 0.6128 - val_acc: 0.6400\n",
      "Epoch 20/20\n",
      "1800/1800 [==============================] - 2s 1ms/step - loss: 0.5615 - acc: 0.7117 - val_loss: 0.5942 - val_acc: 0.6900\n",
      "200/200 [==============================] - 0s 717us/step\n"
     ]
    }
   ],
   "source": [
    "from tensorflow import keras\n",
    "model = keras.models.Sequential()\n",
    "#第一个卷积层，4个卷积核，每个卷积核大小5*5。\n",
    "#激活函数用tanh\n",
    "#还可以在model.add(Activation('tanh'))后加上dropout的技巧: model.add(Dropout(0.5))\n",
    "model.add(keras.layers.Convolution2D(4, 5, 5,input_shape=(224, 224,3)))\n",
    "model.add(keras.layers.Activation('relu'))\n",
    "model.add(keras.layers.MaxPooling2D(pool_size=(2, 2)))\n",
    "#第二个卷积层，8个卷积核，每个卷积核大小3*3。\n",
    "#激活函数用tanh\n",
    "#采用maxpooling，poolsize为(2,2)\n",
    "model.add(keras.layers.Convolution2D(8, 3, 3))\n",
    "model.add(keras.layers.Activation('relu'))\n",
    "model.add(keras.layers.MaxPooling2D(pool_size=(2, 2)))\n",
    "\n",
    "model.add(keras.layers.Convolution2D(16, 3, 3))\n",
    "model.add(keras.layers.Activation('relu'))\n",
    "# model.add(keras.layers.MaxPooling2D(pool_size=(2, 2)))\n",
    "#全连接层，先将前一层输出的二维特征图flatten为一维的。\n",
    "#全连接有128个神经元节点,初始化方式为normal\n",
    "model.add(keras.layers.Flatten())\n",
    "model.add(keras.layers.Dense(128))\n",
    "model.add(keras.layers.Activation('relu'))\n",
    "model.add(keras.layers.Dropout(0.5))\n",
    "#sigmoid分类，输出是2类别\n",
    "model.add(keras.layers.Dense(1))\n",
    "model.add(keras.layers.Activation('sigmoid'))\n",
    "\n",
    "model.compile(loss='binary_crossentropy',\n",
    "              optimizer='rmsprop',\n",
    "              metrics=['accuracy'])\n",
    "model.fit(train_data, train_labels,\n",
    "         nb_epoch=20, batch_size=30,\n",
    "         validation_data=(validation_data, validation_labels))\n",
    "\n",
    "test_loss,test_acc = model.evaluate(validation_data, validation_labels)\n"
   ]
  },
  {
   "cell_type": "code",
   "execution_count": 69,
   "metadata": {
    "collapsed": false
   },
   "outputs": [
    {
     "name": "stdout",
     "output_type": "stream",
     "text": [
      "0.69\n"
     ]
    }
   ],
   "source": [
    "print test_acc"
   ]
  },
  {
   "cell_type": "code",
   "execution_count": null,
   "metadata": {
    "collapsed": true
   },
   "outputs": [],
   "source": []
  }
 ],
 "metadata": {
  "kernelspec": {
   "display_name": "Python 2",
   "language": "python",
   "name": "python2"
  },
  "language_info": {
   "codemirror_mode": {
    "name": "ipython",
    "version": 2
   },
   "file_extension": ".py",
   "mimetype": "text/x-python",
   "name": "python",
   "nbconvert_exporter": "python",
   "pygments_lexer": "ipython2",
   "version": "2.7.11"
  }
 },
 "nbformat": 4,
 "nbformat_minor": 0
}
